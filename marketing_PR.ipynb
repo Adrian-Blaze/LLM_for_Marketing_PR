{
 "cells": [
  {
   "cell_type": "code",
   "execution_count": 1,
   "metadata": {},
   "outputs": [
    {
     "name": "stdout",
     "output_type": "stream",
     "text": [
      "aiohttp==3.8.4\n",
      "aiosignal==1.3.1\n",
      "altair==5.0.1\n",
      "asttokens==2.2.1\n",
      "async-timeout==4.0.2\n",
      "attrs==23.1.0\n",
      "backcall==0.2.0\n",
      "blinker==1.6.2\n",
      "cachetools==5.3.1\n",
      "certifi==2023.5.7\n",
      "cffi==1.15.1\n",
      "chardet==5.1.0\n",
      "charset-normalizer==3.1.0\n",
      "click==8.1.3\n",
      "colorama==0.4.6\n",
      "comm==0.1.3\n",
      "cryptography==41.0.2\n",
      "dataclasses-json==0.5.8\n",
      "debugpy==1.6.7\n",
      "decorator==5.1.1\n",
      "dnspython==2.3.0\n",
      "et-xmlfile==1.1.0\n",
      "executing==1.2.0\n",
      "filelock==3.12.2\n",
      "filetype==1.2.0\n",
      "frozenlist==1.3.3\n",
      "fsspec==2023.6.0\n",
      "gitdb==4.0.10\n",
      "GitPython==3.1.31\n",
      "greenlet==2.0.2\n",
      "huggingface-hub==0.16.4\n",
      "idna==3.4\n",
      "importlib-metadata==6.7.0\n",
      "ipykernel==6.23.2\n",
      "ipython==8.14.0\n",
      "jedi==0.18.2\n",
      "Jinja2==3.1.2\n",
      "joblib==1.3.1\n",
      "jsonschema==4.17.3\n",
      "jupyter_client==8.2.0\n",
      "jupyter_core==5.3.1\n",
      "langchain==0.0.205\n",
      "langchainplus-sdk==0.0.13\n",
      "loguru==0.7.0\n",
      "lxml==4.9.3\n",
      "Markdown==3.4.4\n",
      "markdown-it-py==3.0.0\n",
      "MarkupSafe==2.1.3\n",
      "marshmallow==3.19.0\n",
      "marshmallow-enum==1.5.1\n",
      "matplotlib-inline==0.1.6\n",
      "mdurl==0.1.2\n",
      "mpmath==1.3.0\n",
      "msg-parser==1.2.0\n",
      "multidict==6.0.4\n",
      "mypy-extensions==1.0.0\n",
      "nest-asyncio==1.5.6\n",
      "networkx==3.1\n",
      "nltk==3.8.1\n",
      "numexpr==2.8.4\n",
      "numpy==1.25.0\n",
      "olefile==0.46\n",
      "openai==0.27.8\n",
      "openapi-schema-pydantic==1.2.4\n",
      "openpyxl==3.1.2\n",
      "packaging==23.1\n",
      "pandas==2.0.2\n",
      "parso==0.8.3\n",
      "pdf2image==1.16.3\n",
      "pdfminer.six==20221105\n",
      "pickleshare==0.7.5\n",
      "Pillow==9.5.0\n",
      "pinecone-client==2.2.2\n",
      "platformdirs==3.6.0\n",
      "prompt-toolkit==3.0.38\n",
      "protobuf==4.23.3\n",
      "psutil==5.9.5\n",
      "pure-eval==0.2.2\n",
      "pyarrow==12.0.1\n",
      "pycparser==2.21\n",
      "pycryptodome==3.18.0\n",
      "pydantic==1.10.9\n",
      "pydeck==0.8.1b0\n",
      "Pygments==2.15.1\n",
      "Pympler==1.0.1\n",
      "pypandoc==1.11\n",
      "pypdf==3.13.0\n",
      "pyrsistent==0.19.3\n",
      "python-dateutil==2.8.2\n",
      "python-docx==0.8.11\n",
      "python-magic==0.4.27\n",
      "python-pptx==0.6.21\n",
      "pytz==2023.3\n",
      "pytz-deprecation-shim==0.1.0.post0\n",
      "pywin32==306\n",
      "PyYAML==6.0\n",
      "pyzmq==25.1.0\n",
      "regex==2023.6.3\n",
      "requests==2.31.0\n",
      "rich==13.4.2\n",
      "safetensors==0.3.1\n",
      "scikit-learn==1.3.0\n",
      "scipy==1.11.1\n",
      "sentence-transformers==2.2.2\n",
      "sentencepiece==0.1.99\n",
      "six==1.16.0\n",
      "smmap==5.0.0\n",
      "SQLAlchemy==2.0.16\n",
      "stack-data==0.6.2\n",
      "streamlit==1.23.1\n",
      "sympy==1.12\n",
      "tabulate==0.9.0\n",
      "tenacity==8.2.2\n",
      "threadpoolctl==3.2.0\n",
      "tiktoken==0.4.0\n",
      "tokenizers==0.13.3\n",
      "toml==0.10.2\n",
      "toolz==0.12.0\n",
      "torch==2.0.1\n",
      "torchvision==0.15.2\n",
      "tornado==6.3.2\n",
      "tqdm==4.65.0\n",
      "traitlets==5.9.0\n",
      "transformers==4.31.0\n",
      "typing-inspect==0.9.0\n",
      "typing_extensions==4.6.3\n",
      "tzdata==2023.3\n",
      "tzlocal==4.3.1\n",
      "unstructured==0.8.4\n",
      "urllib3==2.0.3\n",
      "validators==0.20.0\n",
      "watchdog==3.0.0\n",
      "wcwidth==0.2.6\n",
      "win32-setctime==1.1.0\n",
      "xlrd==2.0.1\n",
      "XlsxWriter==3.1.2\n",
      "yarl==1.9.2\n",
      "zipp==3.15.0\n"
     ]
    }
   ],
   "source": [
    "!pip freeze\n"
   ]
  },
  {
   "cell_type": "code",
   "execution_count": 1,
   "metadata": {},
   "outputs": [
    {
     "name": "stderr",
     "output_type": "stream",
     "text": [
      "c:\\Users\\user\\AppData\\Local\\Programs\\Python\\Python311\\Lib\\site-packages\\pinecone\\index.py:4: TqdmWarning: IProgress not found. Please update jupyter and ipywidgets. See https://ipywidgets.readthedocs.io/en/stable/user_install.html\n",
      "  from tqdm.autonotebook import tqdm\n"
     ]
    }
   ],
   "source": [
    "import os\n",
    "import tempfile\n",
    "import streamlit as st\n",
    "from langchain import PromptTemplate\n",
    "from langchain.chains import RetrievalQA\n",
    "from langchain.document_loaders import UnstructuredPDFLoader\n",
    "from langchain.embeddings.openai import OpenAIEmbeddings\n",
    "from langchain.llms import openai\n",
    "from langchain.llms.openai import OpenAI\n",
    "import pinecone"
   ]
  },
  {
   "cell_type": "code",
   "execution_count": 2,
   "metadata": {},
   "outputs": [],
   "source": [
    "file_path = f'C:/Users/user/Desktop/AES automatic electronic Slide user guide.pdf'\n"
   ]
  },
  {
   "cell_type": "code",
   "execution_count": 3,
   "metadata": {},
   "outputs": [],
   "source": [
    "loader = UnstructuredPDFLoader(file_path)\n",
    "#pages2 = loader2.load_and_split()\n",
    "pages = loader.load()\n"
   ]
  },
  {
   "cell_type": "code",
   "execution_count": 5,
   "metadata": {},
   "outputs": [
    {
     "data": {
      "text/plain": [
       "[Document(page_content=\"AES automatic electronic Slide Door Design and function description\\n\\nDesign: The sliding door operator Besam SL500 T works electromechanically. The motor, control unit, transmission – and optional emergency unit and electromechanical locking device – are all assembled in a support beam with an integrated cover. The motor and gear box transmit movement to the door leaves by means of a tooth belt. The door leaf is fitted to a door adapter/carriage wheel fitting and hangs on a sliding track. The guiding at the bottom is carried out by means of floor guides (Full Break-Out) or Side Panel Guides (Fixed Sidelites).\\n\\nFunction:\\n\\nOpening When an OPENING IMPULSE is received by the control unit the motor starts and transmits movement to the door leaves, which move to the open position.\\n\\nClosing The closing starts when no OPENING IMPULSE is received and the HOLD OPEN TIME has expired.\\n\\nSafety functions integrated in the operator To permit safe passage between closing doors, the doors immediately reverse to the open position if an obstruction is detected, then resume their interrupted movement at low speed to check whether the obstruction has disappeared. If an obstruction is detected between opening doors and surrounding walls or interior fittings, the doors immediately stop and then close after a time delay.\\n\\nMicroprocessor for precise control The microprocessor has an integral self-monitoring device that detects most interference or faulty signals in door operation. If an input signal does not correspond to the preprogramming, the microprocessor automatically takes necessary measures to ensure a safe operation.\\n\\nEmergency escape The Besam SL500 T can be combined with an emergency unit that automatically opens or closes the doors in the event of a power failure and can also be interfaced with the fire alarm or smoke detector. Safety can be further reinforced by incorporating a break-out fitting. This enables the doors and sidelites to swing outwards in an emergency situation by applying a light pressure at the front edge.\\n\\nDoors used for emergency escape in buildings such as hospitals and homes for elderly people may not be locked or put in mode selection OFF.\\n\\nElectrical connections: Note: During any work with the electrical connections the • mains power to the power supply unit and the • electrical emergency unit must be disconnected\\n\\nThe main control unit has the connection for power supply, drive unit, operation mode selector, activation units, electromechanical lock and batteries. Activation units can be connected with connectors directly to the main control unit or via terminal blocks. An installer interface with a two digit display and four push buttons is used for function selection, adjustments and for troubleshooting. Additional electronic units can be connected for extra functionality.\\n\\nI/0 unit (IOU) (Option) For extra functionality like Close impulse, Nurse impulse, Open/Close impulse, Emergency open impulse (fireman’s opening), connection of optional operation mode selector and fire alarm an I/O unit is used. This unit has also a relay output for external error or status indication, maximum 15W, 42VAC / 30 VDC (SELV), resistive load only.\\n\\nOperation mode selector functionality Three alternative selectable codes are used. • The default access is obtained by pushing an arrow symbol pointing up or down for 2 seconds. • An optional access code can be selected where the access is obtained by briefly pushing in turn the arrow up symbol, followed by the arrow down symbol, followed by the arrow down symbol again and at last the arrow up. The entire code must be entered within 3 seconds. • No access code. The different operation modes are selected by pushing the arrow symbols pointing upwards or downwards. When a button is pushed a buzzer will sound. The present selection is indicated by a blue light to the left of the function symbol or text. When an arrow symbol has not been pushed for 15 seconds the access will be locked. In the upper right corner a flashing light can be displayed.\\n\\nA red light every other second is indicating an error in the door operator. If the error remains after a RESET then service is needed. - If the red light is quickly flashing 3 times per second it is indicating an internal error in the operation mode selector. - An orange light every other second is indicating a status or condition that can be cleared by the owner e.g. a break-out door is standing open. - A yellow light every other second is indicating that maintenance is needed.\\n\\nAutomatic door Start-Up: After installing the operator, the Start-up and adjustment must be carried out in the following order:\\n\\na. Set the Program Selector to the “AUTO” position. With all accessories such as\\n\\nwell-adjusted sensors and breakout switches connected, connect the main power plug to the control unit. If the door is open and no opening or presence impulse is active, it will move to the closed position with low speed.\\n\\nb. Push the Learn button, LB for 2 seconds to initiate a learn cycle. The display\\n\\nis flashing letter L.\\n\\nc. To check the door movement, give opening impulse by shorting the terminals\\n\\nspeeds on the main control unit (MCU).\\n\\nd. If necessary adjust the door speed parameters to the required speeds. e. Check that the installation complies with valid regulations and requirements\\n\\nfrom the authorities.\\n\\nAdjustments and selection of special operating functions The main control unit has a two-digit display that can show text and/or digits. E1 = flashing letter E followed by a digit is displaying an active error (0-9) and this digit is showing the coarse type of error. It is alternating between this coarse error and a second two-digit number specifying the error. If several errors are present they will be displayed in sequence. Errors can be cleared by a RESET from the operation mode selector or by turning off and back on the mains power. To the right of the display there are four push buttons, to the left a Learn/Exit button, to the right a Select button, one Up and one Down button. The Learn function can be of three different types. • By pushing the Learn/Exit for one second each connected electronic module, including the operation mode selector will be recognized. • By pushing the Learn/Exit for two seconds the display will flash L and when the button is released a complete Learn cycle will start. The main power supply type is\\n\\nalso detected. The door will first close, start to open a short distance and close again. It will sense if an electromechanical lock is installed and also find out of which type it is. It will then open the door and during the opening it will calculate the friction in the system. It will stop in the fully open position and register the clear opening width. It will also register connected sensors and can judge whether they are monitored or not. After 4-10 seconds delay it will close again. During the closing it will automatically calculate the door weight and adjust the speed accordingly. Some parameters, like whether the door is biparting or single sliding, cannot be determined automatically and have to be altered by the installer. If manual intervention is needed, the door will reopen and the Learn will end with the display alternating between P and two digits representing the parameter(s) that must be altered manually. By pushing the right Select button once you will enter this parameter and by pushing the Select button once again the value of this parameter will be shown while flashing. By pushing the Up or Down buttons you can step up or down the value within the allowed range. To confirm the selected value, push the right Select button again. When all values are right, push the Learn/Exit button for 2 seconds and the display will show 'on'. After a two seconds delay the door will close and is ready for operation or for further adjustments. • By pushing the Learn/Exit for ten seconds the operator will return to the default factory set parameters. While pushing, the display will flash L and when 'on' is displayed it indicates that you have returned to the default parameters. When pushing the right Select button the first time, each of the two display windows will make a rotating test pattern. Verify that all seven segments of the two display windows will be lit during the test. Otherwise there is a risk that you can misjudge the digits shown in a defective display. When the display test is finalized the display will show two steady digits representing a parameter. By pushing the up or down buttons you can step up or down to be able to select the parameter you want to adjust. By pushing the right Select button again you will be able to read out the present value of the parameter you have selected. It is shown as two flashing digits and can be adjusted within an allowed range, by pushing the Up or Down buttons. When the proper value is selected you push the right Select button again. If you do not want to alter a new value you can always return to normal operation 'on' by pushing the left Exit button. If you wait ten seconds without pushing any button you will also return to normal operation 'on'.\\n\\nTroubleshooting Before starting the troubleshooting, check that the operation mode selector setting is correct and then RESET the operator. Start the troubleshooting by checking the mechanical and electrical parts of the operator in the following order. The electromechanical parts are fixed in the support beam. To replace, the complete unit is to be loosened and replaced.\\n\\nMechanical checking and remedies Disconnect the mains power. Unlock all mechanical locks. Pull the door leaf manually and check that the door can be easily moved over the complete sliding track/floor guide. If the door leaf stops or is hard to move, the reason may be sand, stones, rubbish etc. in the floor guide. The door leaf may also be jamming on the floor or on the sweeps. Clean the floor guide, adjust the door leaf height/depth or take other necessary measures e.g. replacement of wear parts until the door leaf is running smoothly when manually operated.\\n\\nMain control unit display The main control unit is equipped with a two digit display for error indication. • During normal operation the display shows 'on'. • If the display is extinguished check the mains power, power supply cable and perform a RESET. If the problem remains replace the main control unit or the power supply. • When an error is active the display is alternating between a coarse error type e.g. E4 and a second two digit number specifying the error more in detail e.g. 03. If several errors are active they will be displayed in sequence. On each electronic unit there is also a green light emitting diode (LED). An extinguished or flashing LED is indicating that this unit is failing.\\n\\nCoarse error: E1 Sensor Error Error E1 19: Inner Impulse Error Reason: The control unit doesn’t get a test answer from the activation unit. Remedy: Make sure that the monitoring output is connected and the connections are OK.\\n\\nError E1 30: Stop Impulse Error Reason: The control unit doesn’t get a test answer from the stop impulse. Remedy: Make sure that the monitoring output is connected and the connections are OK.\\n\\nError E1 32: Presence Impulse Error Reason: The control unit doesn’t get a test answer from the activation unit. Remedy:\\n\\nReplace the side presence activation unit. - Make sure that the monitoring output is connected and the connections are\\n\\nOK.\\n\\nCoarse error: E2 Emergency Unit Error\\n\\nError E2 25: Battery Error Reasons:\\n\\nThe battery is disconnected, short circuited or the internal thermal fuse in the battery is defective. -\\n\\nThe charging current is out of specification.\\n\\nRemedy: Charge or replace the battery. Replace the main control unit.\\n\\nCoarse error: E3 Electronic Unit Error\\n\\nError E3 00: RAM Error Reason: Internal RAM memory error. Remedy: RESET, and if the problem remains, replace the electronic unit having a flashing or extinguished LED.\\n\\nError E3 24: Learn Error Reason: The Learn cycle has timed out. Remedy: Make sure that the door can make a full open/close cycle. Check for high friction or jammed door and then make a new Learn.\\n\\nCoarse error: E7 Motor Temperature High\\n\\nError E7 16: Motor Temperature High Reason: The duty cycle of the door is too high for the current Speed settings and Hold Open Time. The heavy-duty motor is replaced by a normal duty motor. Remedy: If the motor is warm, put the door in operation mode OPEN and wait for at least 1 minute. Reduce Speeds and increase Hold Open Time parameters. Put the door in operation mode selection OPEN and wait for at least 5 minutes.\\n\\nMaintenance/Service Regular inspections should be made according to national regulations and product documentation by an AES Entrance Systems-trained and qualified technician.\\n\\na. Remove dust and dirt from the operator. Dirt on the sliding track should be removed with methylated spirits. If necessary replace the sliding track.\\n\\nb. None of the parts need lubrication. c. The tooth belt must be kept dry and clean. Check the belt tension. d. Check that all nuts and bolts are tightened well. e. Adjust, if necessary, the door leaf speed, the HOLD OPEN TIME and the door leaf position to comply with valid regulations and requirements.\", metadata={'source': 'C:/Users/user/Desktop/AES automatic electronic Slide user guide.pdf'})]"
      ]
     },
     "execution_count": 5,
     "metadata": {},
     "output_type": "execute_result"
    }
   ],
   "source": [
    "#new_pdf2 = pages2[26:31]\n",
    "#new_pdf2\n",
    "pages"
   ]
  },
  {
   "cell_type": "code",
   "execution_count": 8,
   "metadata": {},
   "outputs": [
    {
     "data": {
      "text/plain": [
       "36"
      ]
     },
     "execution_count": 8,
     "metadata": {},
     "output_type": "execute_result"
    }
   ],
   "source": [
    "from langchain.text_splitter import RecursiveCharacterTextSplitter\n",
    "doc_splitter = RecursiveCharacterTextSplitter(chunk_size = 512, chunk_overlap = 50)\n",
    "new_pdf2 = doc_splitter.split_documents(pages)\n",
    "len(new_pdf2)"
   ]
  },
  {
   "cell_type": "code",
   "execution_count": 9,
   "metadata": {},
   "outputs": [],
   "source": [
    "os.environ[\"OPENAI_API_KEY\"] = \"sk-xxx\"\n",
    "pinecone.init(api_key=\"xxx\", environment=\"northamerica-northeast1-gcp\")"
   ]
  },
  {
   "cell_type": "code",
   "execution_count": 10,
   "metadata": {},
   "outputs": [],
   "source": [
    "# Create embeddings for the pages and insert into pinecone database\n",
    "embeddings = OpenAIEmbeddings()\n",
    "index_name = \"marketing-pr\"\n",
    "pinecone.create_index(index_name, dimension=1536, metric=\"cosine\")\n",
    "index = pinecone.Index(index_name=index_name)\n"
   ]
  },
  {
   "cell_type": "code",
   "execution_count": 11,
   "metadata": {},
   "outputs": [],
   "source": [
    "from langchain.vectorstores import Pinecone\n",
    "# Create document search database\n",
    "db =  Pinecone.from_documents(new_pdf2, embeddings, index_name=index_name)\n"
   ]
  },
  {
   "cell_type": "code",
   "execution_count": 21,
   "metadata": {},
   "outputs": [],
   "source": [
    "db = Pinecone.from_existing_index(index_name=index_name, embedding=embeddings)"
   ]
  },
  {
   "cell_type": "code",
   "execution_count": 12,
   "metadata": {},
   "outputs": [],
   "source": [
    "retriever = db.as_retriever()\n",
    "# Define the template for the language model prompt\n",
    "template =  \"\"\"\n",
    "            You are a virtual technician designed to provide support and information to clients on automatic sliding door systems.\\\n",
    "            Your objective is to provide accurate and simplified responses to a wide range of \\\n",
    "            automatic sliding door systems questions, based on your knowledge base. \\\n",
    "\n",
    "            If a user's query indicates an error code or number, go through document to give possible reasons and remedies to the issue\\\n",
    "            \n",
    "\n",
    "            In your responses, ensure a tone of professionalism, understanding and expertise. Provide users with \\\n",
    "            possible solutions and stop gaps to their issues pending when the physical technician will arrive \\\n",
    "        \n",
    "\n",
    "            Here are some specific interaction scenarios to guide your responses:\n",
    "            - If the- user asks what you can do, respond with \"I'm a virtual technician here to provide \\\n",
    "            first aid support and information on the technical issue you are experiencing. How can I assist you?\"\n",
    "            - If the user starts with a greeting, respond with 'Hello! How are you doing today? How can I assist you?' \\\n",
    "            or something related to that\n",
    "            - If a user shares their name, use it in your responses when appropriate, to cultivate a more personal and \\\n",
    "            comforting conversation.\n",
    "\n",
    "            - If the exact question is not available, ask the user to reboot the system and then provide a suggestion based on the second nearest answer from the pdf.\\\n",
    "            - If a user asks a question that is unrelated to automated systems, respond with \\\n",
    "            'This question is out of my scope as I'm built mainly as a first aid support for our electronic systems in your facility \\\n",
    "            Could you please ask a question related to our automated systems?'\n",
    "\n",
    "            {context}\n",
    "            Question: {question}\n",
    "            Answer:\"\"\"\n",
    "\n",
    "# Create a prompt template\n",
    "prompt = PromptTemplate(template=template, input_variables=[\"context\", \"question\"])"
   ]
  },
  {
   "cell_type": "code",
   "execution_count": 13,
   "metadata": {},
   "outputs": [],
   "source": [
    "chain_type_kwargs = {\"prompt\": prompt}\n",
    "#Initialize the OpenAI module, load and run the retrieval QA chain\n",
    "llm = OpenAI(temperature=0)\n",
    "chain = RetrievalQA.from_chain_type(\n",
    "llm=llm,\n",
    "chain_type=\"stuff\",\n",
    "retriever=retriever,\n",
    "chain_type_kwargs=chain_type_kwargs,\n",
    "verbose=True\n",
    ")"
   ]
  },
  {
   "cell_type": "code",
   "execution_count": 24,
   "metadata": {},
   "outputs": [
    {
     "data": {
      "text/plain": [
       "'my door is stuck'"
      ]
     },
     "execution_count": 24,
     "metadata": {},
     "output_type": "execute_result"
    }
   ],
   "source": [
    "user_question = input(\"How can we assist you today?\")\n",
    "user_question"
   ]
  },
  {
   "cell_type": "code",
   "execution_count": 25,
   "metadata": {},
   "outputs": [
    {
     "name": "stdout",
     "output_type": "stream",
     "text": [
      "\n",
      "\n",
      "\u001b[1m> Entering new  chain...\u001b[0m\n",
      "\n",
      "\u001b[1m> Finished chain.\u001b[0m\n"
     ]
    },
    {
     "data": {
      "text/plain": [
       "' It sounds like you are having an issue with your door being stuck. This could be due to a number of reasons, such as sand, stones, rubbish, etc. in the floor guide, or the door leaf jamming on the floor or on the sweeps. I recommend that you disconnect the mains power and unlock all mechanical locks, then pull the door leaf manually and check that the door can be easily moved over the complete sliding track/floor guide. If the door leaf stops or is hard to move, you should clean the floor guide, adjust the door leaf height/depth or take other necessary measures, such as replacing any worn parts.'"
      ]
     },
     "execution_count": 25,
     "metadata": {},
     "output_type": "execute_result"
    }
   ],
   "source": [
    "#search = db.similarity_search(user_question)\n",
    "answer = chain.run(user_question)\n",
    "answer"
   ]
  }
 ],
 "metadata": {
  "kernelspec": {
   "display_name": "Python 3",
   "language": "python",
   "name": "python3"
  },
  "language_info": {
   "codemirror_mode": {
    "name": "ipython",
    "version": 3
   },
   "file_extension": ".py",
   "mimetype": "text/x-python",
   "name": "python",
   "nbconvert_exporter": "python",
   "pygments_lexer": "ipython3",
   "version": "3.11.4"
  },
  "orig_nbformat": 4
 },
 "nbformat": 4,
 "nbformat_minor": 2
}
